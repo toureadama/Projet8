{
 "cells": [
  {
   "cell_type": "markdown",
   "id": "0494584f",
   "metadata": {},
   "source": [
    "### I- Extraction des features avec RESNET50"
   ]
  },
  {
   "cell_type": "code",
   "execution_count": 21,
   "id": "e66987aa",
   "metadata": {},
   "outputs": [],
   "source": [
    "import os\n",
    "import findspark\n",
    "findspark.init()\n",
    "import pyspark\n",
    "from pyspark.sql import SparkSession\n",
    "from pyspark import SparkContext, SparkConf\n",
    "from pyspark.sql.functions import lit\n",
    "from pyspark.sql.types import *\n",
    "from sparkdl import DeepImageFeaturizer"
   ]
  },
  {
   "cell_type": "markdown",
   "id": "8221df20",
   "metadata": {},
   "source": [
    "#### Spark configuration"
   ]
  },
  {
   "cell_type": "code",
   "execution_count": 6,
   "id": "03988677",
   "metadata": {},
   "outputs": [],
   "source": [
    "os.environ['PYSPARK_SUBMIT_ARGS'] = '-- packages com.amazonaws:aws-java-sdk:1.7.4,org.apache.hadoop:hadoop-aws:2.7.3 pyspark-shell'"
   ]
  },
  {
   "cell_type": "code",
   "execution_count": 22,
   "id": "ef8fe0d5",
   "metadata": {},
   "outputs": [],
   "source": [
    "awsAccessKeyId='xxxxxxxxxx'\n",
    "awsAccessSecretKey='xxxxxxxxxxxxxxx'"
   ]
  },
  {
   "cell_type": "code",
   "execution_count": 23,
   "id": "ecd8392d",
   "metadata": {},
   "outputs": [
    {
     "ename": "NameError",
     "evalue": "name 'awsAccessKeyID' is not defined",
     "output_type": "error",
     "traceback": [
      "\u001b[1;31m---------------------------------------------------------------------------\u001b[0m",
      "\u001b[1;31mNameError\u001b[0m                                 Traceback (most recent call last)",
      "\u001b[1;32m~\\AppData\\Local\\Temp/ipykernel_3696/538978239.py\u001b[0m in \u001b[0;36m<module>\u001b[1;34m\u001b[0m\n\u001b[0;32m      2\u001b[0m         \u001b[0mSparkConf\u001b[0m\u001b[1;33m(\u001b[0m\u001b[1;33m)\u001b[0m\u001b[1;33m\u001b[0m\u001b[1;33m\u001b[0m\u001b[0m\n\u001b[0;32m      3\u001b[0m             \u001b[1;33m.\u001b[0m\u001b[0msetAppName\u001b[0m\u001b[1;33m(\u001b[0m\u001b[1;34m\"pyspark_aws_project8\"\u001b[0m\u001b[1;33m)\u001b[0m\u001b[1;33m\u001b[0m\u001b[1;33m\u001b[0m\u001b[0m\n\u001b[1;32m----> 4\u001b[1;33m             \u001b[1;33m.\u001b[0m\u001b[0mset\u001b[0m\u001b[1;33m(\u001b[0m\u001b[1;34m\"spark.hadoop.fs.s3a.access.key\"\u001b[0m\u001b[1;33m,\u001b[0m \u001b[0mawsAccessKeyID\u001b[0m\u001b[1;33m)\u001b[0m\u001b[1;33m\u001b[0m\u001b[1;33m\u001b[0m\u001b[0m\n\u001b[0m\u001b[0;32m      5\u001b[0m             \u001b[1;33m.\u001b[0m\u001b[0mset\u001b[0m\u001b[1;33m(\u001b[0m\u001b[1;34m\"spark.hadoop.fs.s3a.secret.key\"\u001b[0m\u001b[1;33m,\u001b[0m \u001b[0mawsAccessSecretKey\u001b[0m\u001b[1;33m)\u001b[0m\u001b[1;33m\u001b[0m\u001b[1;33m\u001b[0m\u001b[0m\n\u001b[0;32m      6\u001b[0m             \u001b[1;33m.\u001b[0m\u001b[0mset\u001b[0m\u001b[1;33m(\u001b[0m\u001b[1;34m\"spark.hadoop.fs.s3a.impl\"\u001b[0m\u001b[1;33m,\u001b[0m \u001b[1;34m\"org.apache.hadoop.fs.s3a.S3AFileSystem\"\u001b[0m\u001b[1;33m)\u001b[0m\u001b[1;33m\u001b[0m\u001b[1;33m\u001b[0m\u001b[0m\n",
      "\u001b[1;31mNameError\u001b[0m: name 'awsAccessKeyID' is not defined"
     ]
    }
   ],
   "source": [
    "conf = (\n",
    "        SparkConf()\n",
    "            .setAppName(\"pyspark_aws_project8\")\n",
    "            .set(\"spark.hadoop.fs.s3a.access.key\", awsAccessKeyID)\n",
    "            .set(\"spark.hadoop.fs.s3a.secret.key\", awsAccessSecretKey)\n",
    "            .set(\"spark.hadoop.fs.s3a.impl\", \"org.apache.hadoop.fs.s3a.S3AFileSystem\")\n",
    "            .set(\"spark.hadoop.fs.s3a..endpoint\", \"s3-eu-west-1.amazonaws.com\")\n",
    "            .set(\"spark.hadoop.mapreduce.fileoutputcommitter.algorithm.version\", \"2\")\n",
    "            .set('spark.executor.extraJavaOptions','-Dcom.amazonaws.services.s3.enableV4=true')\n",
    "            .set('spark.driver.extraJavaOptions','-Dcom.amazonaws.services.s3.enableV4=true')\n",
    "            .set(\"spark.speculation\", \"false\")\n",
    "            .set(\"spark.hadoop.mapreduce.fileoutputcommitter.cleanup-failures.ignored\", \"true\")\n",
    "            .set(\"fs.s3a.experimental.input.fadvise\", \"random\")\n",
    "            .setIfMissing(\"spark.master\", \"local\")\n",
    "    )"
   ]
  },
  {
   "cell_type": "code",
   "execution_count": 16,
   "id": "34a48a01",
   "metadata": {},
   "outputs": [],
   "source": [
    "sc=SparkContext(conf=conf)"
   ]
  },
  {
   "cell_type": "code",
   "execution_count": null,
   "id": "aaa6bce5",
   "metadata": {},
   "outputs": [],
   "source": [
    "spark=SparkSession(sc)"
   ]
  },
  {
   "cell_type": "code",
   "execution_count": 20,
   "id": "233f754d",
   "metadata": {},
   "outputs": [],
   "source": [
    "datasets_echant_path = 's3a:\\\\my-project8-image\\\\donnees_image_echant\\\\fruits-360_dataset\\\\fruits-360\\\\Training\\\\'"
   ]
  },
  {
   "cell_type": "code",
   "execution_count": null,
   "id": "7ced52ae",
   "metadata": {},
   "outputs": [],
   "source": [
    "# Create an empty spark dataframe\n",
    "emp_RDD = spark.sparkContext.emptyRDD()\n",
    " \n",
    "# Defining the schema of the DataFrame\n",
    "columns1 = StructType([StructField('image',\n",
    "                                   StructType([\n",
    "                                       StructField(\"origin\", StringType(), True),\n",
    "                                       StructField(\"height\", IntegerType(), True),\n",
    "                                       StructField(\"width\", IntegerType(), True),\n",
    "                                       StructField(\"nChannels\", IntegerType(), True),\n",
    "                                       StructField(\"mode\", IntegerType(), True),\n",
    "                                       StructField(\"data\", BinaryType(), True),\n",
    "                                       ]), True,),\n",
    "                       StructField('label', StringType(), False)])\n",
    " \n",
    "# Creating an empty DataFrame\n",
    "empty_df = spark.createDataFrame(data=emp_RDD,\n",
    "                                         schema=columns1)"
   ]
  },
  {
   "cell_type": "code",
   "execution_count": null,
   "id": "c7ff1b8f",
   "metadata": {},
   "outputs": [],
   "source": [
    "# Download all pictures with labels\n",
    "\n",
    "df = empty_df\n",
    "for dirname, _, _ in os.walk(datasets_echant_path):\n",
    "    if dirname != datasets_echant_path:\n",
    "        df_img = spark.read.format(\"image\").load(dirname).withColumn(\"label\", lit(dirname.split('/')[-1]))\n",
    "        df = df.union(df_img)"
   ]
  },
  {
   "cell_type": "code",
   "execution_count": null,
   "id": "dd298adf",
   "metadata": {},
   "outputs": [],
   "source": [
    "# Extract features from images with Resnet50\n",
    "featurizer = DeepImageFeaturizer(inputCol=\"image\",\n",
    "                                 outputCol=\"features\",\n",
    "                                 modelName=\"ResNet50\")\n",
    "\n",
    "df_feat = spark.createDataFrame(featurizer.transform(df.drop('label'))).WithColum('label',df.label)"
   ]
  },
  {
   "cell_type": "markdown",
   "id": "0fab0765",
   "metadata": {},
   "source": [
    "### Réduction de dimension par PCA"
   ]
  },
  {
   "cell_type": "code",
   "execution_count": null,
   "id": "ac9f3c55",
   "metadata": {},
   "outputs": [],
   "source": [
    "from pyspark.ml.feature import PCA\n",
    "from pyspark.ml.feature import VectorAssembler"
   ]
  },
  {
   "cell_type": "code",
   "execution_count": null,
   "id": "23555049",
   "metadata": {},
   "outputs": [],
   "source": [
    "cols = df_feat.drop('label').columns"
   ]
  },
  {
   "cell_type": "code",
   "execution_count": null,
   "id": "de67fcf5",
   "metadata": {},
   "outputs": [],
   "source": [
    "# Create vector columns\n",
    "assembler = VectorAssembler(inputCols=cols, outputCol = 'features')\n",
    "output_dat = assembler.transform(df_feat).select('label', 'features')"
   ]
  },
  {
   "cell_type": "code",
   "execution_count": null,
   "id": "17672dcd",
   "metadata": {},
   "outputs": [],
   "source": [
    "# Apply PCA\n",
    "pca = PCA(k=88, inputCol = \"features\", outputCol=\"pcaFeatures\")\n",
    "\n",
    "model = pca.fit(output_dat)\n",
    "pca_features = model.transform(output_dat).select('label', df_feat.label)"
   ]
  },
  {
   "cell_type": "markdown",
   "id": "9ccb0233",
   "metadata": {},
   "source": [
    "### Stocker le fichier de sortie sur S3"
   ]
  },
  {
   "cell_type": "code",
   "execution_count": null,
   "id": "67a2b919",
   "metadata": {},
   "outputs": [],
   "source": [
    "# Write pca-features into S3"
   ]
  },
  {
   "cell_type": "code",
   "execution_count": null,
   "id": "ec9031c5",
   "metadata": {},
   "outputs": [],
   "source": [
    "# Define the s3 destination path\n",
    "s3_dest_path = \"s3a://\" + newbucketName + \"/pcaFeatures\"\n",
    "print(\"s3 destination path \"+s3_dest_path)"
   ]
  },
  {
   "cell_type": "code",
   "execution_count": null,
   "id": "d6f7890a",
   "metadata": {},
   "outputs": [],
   "source": [
    "# Write the data as csv\n",
    "pcaFeatureCsvPath = s3_dest_path + \"/pcaFeature_csv\"\n",
    "pca_features.write.mode(\"overwrite\").format(\"csv\").save(pcaFeatureCsvPath)"
   ]
  },
  {
   "cell_type": "markdown",
   "id": "c0ffef42",
   "metadata": {},
   "source": [
    "#### Arrêter la session Spark"
   ]
  },
  {
   "cell_type": "code",
   "execution_count": null,
   "id": "c5703f2a",
   "metadata": {},
   "outputs": [],
   "source": [
    "spark.stop()"
   ]
  }
 ],
 "metadata": {
  "kernelspec": {
   "display_name": "Python 3 (ipykernel)",
   "language": "python",
   "name": "python3"
  },
  "language_info": {
   "codemirror_mode": {
    "name": "ipython",
    "version": 3
   },
   "file_extension": ".py",
   "mimetype": "text/x-python",
   "name": "python",
   "nbconvert_exporter": "python",
   "pygments_lexer": "ipython3",
   "version": "3.9.7"
  }
 },
 "nbformat": 4,
 "nbformat_minor": 5
}
