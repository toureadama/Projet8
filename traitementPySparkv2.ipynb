{
 "cells": [
  {
   "cell_type": "markdown",
   "id": "0494584f",
   "metadata": {},
   "source": [
    "### Extraction des features avec RESNET50"
   ]
  },
  {
   "cell_type": "code",
   "execution_count": 21,
   "id": "90a083cb",
   "metadata": {},
   "outputs": [],
   "source": [
    "import findspark\n",
    "findspark.init()\n",
    "import pyspark\n",
    "from pyspark.sql import SparkSession\n",
    "from pyspark import SparkContext, SparkConf\n",
    "from pyspark.sql.functions import lit\n",
    "from pyspark.sql.types import *\n",
    "from sparkdl import DeepImageFeaturizer"
   ]
  },
  {
   "cell_type": "code",
   "execution_count": 6,
   "id": "620e9e93",
   "metadata": {},
   "outputs": [],
   "source": [
    "import os\n",
    "os.environ['PYSPARK_SUBMIT_ARGS'] = '-- packages com.amazonaws:aws-java-sdk:1.7.4,org.apache.hadoop:hadoop-aws:2.7.3 pyspark-shell'"
   ]
  },
  {
   "cell_type": "code",
   "execution_count": 7,
   "id": "9bc52f69",
   "metadata": {},
   "outputs": [],
   "source": [
    "#spark configuration\n",
    "conf = SparkConf().set('spark.executor.extraJavaOptions','-Dcom.amazonaws.services.s3.enableV4=true'). \\\n",
    " set('spark.driver.extraJavaOptions','-Dcom.amazonaws.services.s3.enableV4=true'). \\\n",
    " setAppName('pyspark_aws_project8').setMaster('local[*]')"
   ]
  },
  {
   "cell_type": "code",
   "execution_count": 16,
   "id": "dd98934c",
   "metadata": {},
   "outputs": [],
   "source": [
    "#sc=SparkContext(conf=conf)\n",
    "#sc.setSystemProperty('com.amazonaws.services.s3.enableV4', 'true')"
   ]
  },
  {
   "cell_type": "code",
   "execution_count": 13,
   "id": "ef8fe0d5",
   "metadata": {},
   "outputs": [],
   "source": [
    "accessKeyId='xxxxxxxxxx'\n",
    "secretAccessKey='xxxxxxxxxxxxxxx'"
   ]
  },
  {
   "cell_type": "code",
   "execution_count": 18,
   "id": "fb14f238",
   "metadata": {},
   "outputs": [
    {
     "ename": "NameError",
     "evalue": "name 'sc' is not defined",
     "output_type": "error",
     "traceback": [
      "\u001b[1;31m---------------------------------------------------------------------------\u001b[0m",
      "\u001b[1;31mNameError\u001b[0m                                 Traceback (most recent call last)",
      "\u001b[1;32m~\\AppData\\Local\\Temp/ipykernel_3696/2574131680.py\u001b[0m in \u001b[0;36m<module>\u001b[1;34m\u001b[0m\n\u001b[1;32m----> 1\u001b[1;33m \u001b[0mhadoopConf\u001b[0m \u001b[1;33m=\u001b[0m \u001b[0msc\u001b[0m\u001b[1;33m.\u001b[0m\u001b[0m_jsc\u001b[0m\u001b[1;33m.\u001b[0m\u001b[0mhadoopConfiguration\u001b[0m\u001b[1;33m(\u001b[0m\u001b[1;33m)\u001b[0m\u001b[1;33m\u001b[0m\u001b[1;33m\u001b[0m\u001b[0m\n\u001b[0m\u001b[0;32m      2\u001b[0m \u001b[0mhadoopConf\u001b[0m\u001b[1;33m.\u001b[0m\u001b[0mset\u001b[0m\u001b[1;33m(\u001b[0m\u001b[1;34m'fs.s3a.access.key'\u001b[0m\u001b[1;33m,\u001b[0m \u001b[0maccessKeyId\u001b[0m\u001b[1;33m)\u001b[0m\u001b[1;33m\u001b[0m\u001b[1;33m\u001b[0m\u001b[0m\n\u001b[0;32m      3\u001b[0m \u001b[0mhadoopConf\u001b[0m\u001b[1;33m.\u001b[0m\u001b[0mset\u001b[0m\u001b[1;33m(\u001b[0m\u001b[1;34m'fs.s3a.secret.key'\u001b[0m\u001b[1;33m,\u001b[0m \u001b[0msecretAccessKey\u001b[0m\u001b[1;33m)\u001b[0m\u001b[1;33m\u001b[0m\u001b[1;33m\u001b[0m\u001b[0m\n\u001b[0;32m      4\u001b[0m \u001b[0mhadoopConf\u001b[0m\u001b[1;33m.\u001b[0m\u001b[0mset\u001b[0m\u001b[1;33m(\u001b[0m\u001b[1;34m'fs.s3a.endpoint'\u001b[0m\u001b[1;33m,\u001b[0m \u001b[1;34m's3-eu-west-1.amazonaws.com'\u001b[0m\u001b[1;33m)\u001b[0m\u001b[1;33m\u001b[0m\u001b[1;33m\u001b[0m\u001b[0m\n\u001b[0;32m      5\u001b[0m \u001b[0mhadoopConf\u001b[0m\u001b[1;33m.\u001b[0m\u001b[0mset\u001b[0m\u001b[1;33m(\u001b[0m\u001b[1;34m'fs.s3a.impl'\u001b[0m\u001b[1;33m,\u001b[0m \u001b[1;34m'org.apache.hadoop.fs.s3a.S3AFileSystem'\u001b[0m\u001b[1;33m)\u001b[0m\u001b[1;33m\u001b[0m\u001b[1;33m\u001b[0m\u001b[0m\n",
      "\u001b[1;31mNameError\u001b[0m: name 'sc' is not defined"
     ]
    }
   ],
   "source": [
    "hadoopConf = sc._jsc.hadoopConfiguration()\n",
    "hadoopConf.set('fs.s3a.access.key', accessKeyId)\n",
    "hadoopConf.set('fs.s3a.secret.key', secretAccessKey)\n",
    "hadoopConf.set('fs.s3a.endpoint', 's3-eu-west-1.amazonaws.com')\n",
    "hadoopConf.set('fs.s3a.impl', 'org.apache.hadoop.fs.s3a.S3AFileSystem')"
   ]
  },
  {
   "cell_type": "code",
   "execution_count": null,
   "id": "aaa6bce5",
   "metadata": {},
   "outputs": [],
   "source": [
    "spark=SparkSession(sc)"
   ]
  },
  {
   "cell_type": "code",
   "execution_count": 20,
   "id": "6b6edbf4",
   "metadata": {},
   "outputs": [],
   "source": [
    "datasets_echant_path = 's3a:\\\\my-project8-image\\\\donnees_image_echant\\\\fruits-360_dataset\\\\fruits-360\\\\Training\\\\'"
   ]
  },
  {
   "cell_type": "code",
   "execution_count": null,
   "id": "6066c1a7",
   "metadata": {},
   "outputs": [],
   "source": [
    "# Create an empty spark dataframe\n",
    "emp_RDD = spark.sparkContext.emptyRDD()\n",
    " \n",
    "# Defining the schema of the DataFrame\n",
    "columns1 = StructType([StructField('image',\n",
    "                                   StructType([\n",
    "                                       StructField(\"origin\", StringType(), True),\n",
    "                                       StructField(\"height\", IntegerType(), True),\n",
    "                                       StructField(\"width\", IntegerType(), True),\n",
    "                                       StructField(\"nChannels\", IntegerType(), True),\n",
    "                                       StructField(\"mode\", IntegerType(), True),\n",
    "                                       StructField(\"data\", BinaryType(), True),\n",
    "                                       ]), True,),\n",
    "                       StructField('label', StringType(), False)])\n",
    " \n",
    "# Creating an empty DataFrame\n",
    "empty_df = spark.createDataFrame(data=emp_RDD,\n",
    "                                         schema=columns1)"
   ]
  },
  {
   "cell_type": "code",
   "execution_count": null,
   "id": "42302286",
   "metadata": {},
   "outputs": [],
   "source": [
    "# Download all pictures with labels\n",
    "\n",
    "df = empty_df\n",
    "for dirname, _, _ in os.walk(datasets_echant_path):\n",
    "    if dirname != datasets_echant_path:\n",
    "        df_img = spark.read.format(\"image\").load(dirname).withColumn(\"label\", lit(dirname.split('/')[-1]))\n",
    "        df = df.union(df_img)"
   ]
  },
  {
   "cell_type": "code",
   "execution_count": null,
   "id": "4301070b",
   "metadata": {},
   "outputs": [],
   "source": [
    "# Extract features from images with Resnet50\n",
    "featurizer = DeepImageFeaturizer(inputCol=\"image\",\n",
    "                                 outputCol=\"features\",\n",
    "                                 modelName=\"ResNet50\")\n",
    "\n",
    "df_feat = spark.createDataFrame(featurizer.transform(df.drop('label'))).WithColum('label',df.label)"
   ]
  },
  {
   "cell_type": "markdown",
   "id": "0fab0765",
   "metadata": {},
   "source": [
    "### Réduction de dimension par PCA"
   ]
  },
  {
   "cell_type": "code",
   "execution_count": null,
   "id": "fd4b1770",
   "metadata": {},
   "outputs": [],
   "source": [
    "from pyspark.ml.feature import PCA\n",
    "from pyspark.ml.linalg import Vectors\n",
    "from pyspark.mllib.regression import LabeledPoint\n",
    "from pyspark.mllib.util import MLUtils\n",
    "import numpy as np\n",
    "from pyspark.ml.feature import StandardScaler\n",
    "import pyspark.sql.functions as f\n",
    "import pandas as pd\n",
    "from pyspark.sql import Row\n",
    "from pyspark.ml.feature import VectorAssembler"
   ]
  },
  {
   "cell_type": "code",
   "execution_count": null,
   "id": "f5e98668",
   "metadata": {},
   "outputs": [],
   "source": [
    "cols = df_feat.drop('label').columns"
   ]
  },
  {
   "cell_type": "code",
   "execution_count": null,
   "id": "afc29ca0",
   "metadata": {},
   "outputs": [],
   "source": [
    "# Create vector columns\n",
    "assembler = VectorAssembler(inputCols=cols, outputCol = 'features')\n",
    "output_dat = assembler.transform(df_feat).select('label', 'features')"
   ]
  },
  {
   "cell_type": "code",
   "execution_count": null,
   "id": "bd70e60f",
   "metadata": {},
   "outputs": [],
   "source": [
    "# Apply PCA\n",
    "pca = PCA(k=88, inputCol = \"features\", outputCol=\"pcaFeatures\")\n",
    "\n",
    "model = pca.fit(output_dat)\n",
    "pca_features = model.transform(output_dat).select('label', df_feat.label)"
   ]
  },
  {
   "cell_type": "code",
   "execution_count": null,
   "id": "c85b8e70",
   "metadata": {},
   "outputs": [],
   "source": []
  },
  {
   "cell_type": "code",
   "execution_count": null,
   "id": "f8135606",
   "metadata": {},
   "outputs": [],
   "source": []
  },
  {
   "cell_type": "code",
   "execution_count": null,
   "id": "057649de",
   "metadata": {},
   "outputs": [],
   "source": []
  },
  {
   "cell_type": "code",
   "execution_count": null,
   "id": "d0700b24",
   "metadata": {},
   "outputs": [],
   "source": []
  },
  {
   "cell_type": "code",
   "execution_count": null,
   "id": "ce031498",
   "metadata": {},
   "outputs": [],
   "source": []
  },
  {
   "cell_type": "code",
   "execution_count": null,
   "id": "81f1b7d9",
   "metadata": {},
   "outputs": [],
   "source": []
  },
  {
   "cell_type": "code",
   "execution_count": null,
   "id": "7999b3ee",
   "metadata": {},
   "outputs": [],
   "source": []
  },
  {
   "cell_type": "code",
   "execution_count": 8,
   "id": "0740cf1f",
   "metadata": {},
   "outputs": [],
   "source": [
    "from sklearn.decomposition import PCA\n",
    "# pca - keep 90% of variance\n",
    "pca = PCA(0.90)\n",
    "principal_components = pca.fit_transform(data_all.drop(\"label\"))"
   ]
  },
  {
   "cell_type": "code",
   "execution_count": 9,
   "id": "7dcae694",
   "metadata": {},
   "outputs": [
    {
     "name": "stdout",
     "output_type": "stream",
     "text": [
      "(1310, 174)\n"
     ]
    }
   ],
   "source": [
    "principal_df = pd.concat([data_all.label, pd.DataFrame(data = principal_components)], axis=1)\n",
    "print(principal_df.shape)"
   ]
  },
  {
   "cell_type": "code",
   "execution_count": 12,
   "id": "6ae101c9",
   "metadata": {},
   "outputs": [
    {
     "data": {
      "text/html": [
       "<div>\n",
       "<style scoped>\n",
       "    .dataframe tbody tr th:only-of-type {\n",
       "        vertical-align: middle;\n",
       "    }\n",
       "\n",
       "    .dataframe tbody tr th {\n",
       "        vertical-align: top;\n",
       "    }\n",
       "\n",
       "    .dataframe thead th {\n",
       "        text-align: right;\n",
       "    }\n",
       "</style>\n",
       "<table border=\"1\" class=\"dataframe\">\n",
       "  <thead>\n",
       "    <tr style=\"text-align: right;\">\n",
       "      <th></th>\n",
       "      <th>label</th>\n",
       "      <th>0</th>\n",
       "      <th>1</th>\n",
       "      <th>2</th>\n",
       "      <th>3</th>\n",
       "      <th>4</th>\n",
       "      <th>5</th>\n",
       "      <th>6</th>\n",
       "      <th>7</th>\n",
       "      <th>8</th>\n",
       "      <th>...</th>\n",
       "      <th>163</th>\n",
       "      <th>164</th>\n",
       "      <th>165</th>\n",
       "      <th>166</th>\n",
       "      <th>167</th>\n",
       "      <th>168</th>\n",
       "      <th>169</th>\n",
       "      <th>170</th>\n",
       "      <th>171</th>\n",
       "      <th>172</th>\n",
       "    </tr>\n",
       "  </thead>\n",
       "  <tbody>\n",
       "    <tr>\n",
       "      <th>0</th>\n",
       "      <td>Apple Braeburn</td>\n",
       "      <td>-126.079216</td>\n",
       "      <td>-20.465063</td>\n",
       "      <td>2.109932</td>\n",
       "      <td>-16.983776</td>\n",
       "      <td>20.552832</td>\n",
       "      <td>-55.029251</td>\n",
       "      <td>11.705690</td>\n",
       "      <td>-68.226257</td>\n",
       "      <td>-15.284904</td>\n",
       "      <td>...</td>\n",
       "      <td>-2.001430</td>\n",
       "      <td>5.611289</td>\n",
       "      <td>2.469967</td>\n",
       "      <td>13.452518</td>\n",
       "      <td>4.699523</td>\n",
       "      <td>-6.445440</td>\n",
       "      <td>-2.791751</td>\n",
       "      <td>-1.687784</td>\n",
       "      <td>-9.780011</td>\n",
       "      <td>-4.474288</td>\n",
       "    </tr>\n",
       "    <tr>\n",
       "      <th>1</th>\n",
       "      <td>Apple Braeburn</td>\n",
       "      <td>-159.821060</td>\n",
       "      <td>-49.361229</td>\n",
       "      <td>26.784433</td>\n",
       "      <td>1.381939</td>\n",
       "      <td>0.252728</td>\n",
       "      <td>-0.365676</td>\n",
       "      <td>50.401302</td>\n",
       "      <td>-12.385925</td>\n",
       "      <td>-82.419731</td>\n",
       "      <td>...</td>\n",
       "      <td>-0.891619</td>\n",
       "      <td>-5.292984</td>\n",
       "      <td>-4.847217</td>\n",
       "      <td>-1.164312</td>\n",
       "      <td>1.676399</td>\n",
       "      <td>9.762865</td>\n",
       "      <td>-10.650976</td>\n",
       "      <td>-6.978362</td>\n",
       "      <td>-5.724542</td>\n",
       "      <td>-0.335709</td>\n",
       "    </tr>\n",
       "    <tr>\n",
       "      <th>2</th>\n",
       "      <td>Apple Braeburn</td>\n",
       "      <td>-163.084946</td>\n",
       "      <td>-50.975998</td>\n",
       "      <td>32.951340</td>\n",
       "      <td>-2.983782</td>\n",
       "      <td>-2.024314</td>\n",
       "      <td>7.104094</td>\n",
       "      <td>55.642479</td>\n",
       "      <td>-7.860163</td>\n",
       "      <td>-88.528183</td>\n",
       "      <td>...</td>\n",
       "      <td>-0.831624</td>\n",
       "      <td>-1.517816</td>\n",
       "      <td>-5.190097</td>\n",
       "      <td>-5.411776</td>\n",
       "      <td>3.861518</td>\n",
       "      <td>8.233482</td>\n",
       "      <td>-6.704696</td>\n",
       "      <td>-2.499938</td>\n",
       "      <td>-2.530610</td>\n",
       "      <td>1.072610</td>\n",
       "    </tr>\n",
       "    <tr>\n",
       "      <th>3</th>\n",
       "      <td>Apple Braeburn</td>\n",
       "      <td>-160.648453</td>\n",
       "      <td>-49.477711</td>\n",
       "      <td>42.307613</td>\n",
       "      <td>5.905721</td>\n",
       "      <td>-4.085958</td>\n",
       "      <td>10.723994</td>\n",
       "      <td>53.374607</td>\n",
       "      <td>-8.554770</td>\n",
       "      <td>-100.312035</td>\n",
       "      <td>...</td>\n",
       "      <td>-2.856441</td>\n",
       "      <td>-0.888656</td>\n",
       "      <td>-4.545717</td>\n",
       "      <td>-5.491290</td>\n",
       "      <td>2.400442</td>\n",
       "      <td>7.536231</td>\n",
       "      <td>-6.292813</td>\n",
       "      <td>-6.892319</td>\n",
       "      <td>-2.751713</td>\n",
       "      <td>-4.750124</td>\n",
       "    </tr>\n",
       "    <tr>\n",
       "      <th>4</th>\n",
       "      <td>Apple Braeburn</td>\n",
       "      <td>-159.546143</td>\n",
       "      <td>-49.895878</td>\n",
       "      <td>53.068077</td>\n",
       "      <td>10.417496</td>\n",
       "      <td>-6.057590</td>\n",
       "      <td>9.659484</td>\n",
       "      <td>55.258743</td>\n",
       "      <td>-11.540544</td>\n",
       "      <td>-100.696190</td>\n",
       "      <td>...</td>\n",
       "      <td>-1.102456</td>\n",
       "      <td>-0.746603</td>\n",
       "      <td>-2.300404</td>\n",
       "      <td>-6.746674</td>\n",
       "      <td>2.137212</td>\n",
       "      <td>6.150426</td>\n",
       "      <td>-5.815139</td>\n",
       "      <td>-6.398622</td>\n",
       "      <td>0.068932</td>\n",
       "      <td>-3.145939</td>\n",
       "    </tr>\n",
       "  </tbody>\n",
       "</table>\n",
       "<p>5 rows × 174 columns</p>\n",
       "</div>"
      ],
      "text/plain": [
       "            label           0          1          2          3          4  \\\n",
       "0  Apple Braeburn -126.079216 -20.465063   2.109932 -16.983776  20.552832   \n",
       "1  Apple Braeburn -159.821060 -49.361229  26.784433   1.381939   0.252728   \n",
       "2  Apple Braeburn -163.084946 -50.975998  32.951340  -2.983782  -2.024314   \n",
       "3  Apple Braeburn -160.648453 -49.477711  42.307613   5.905721  -4.085958   \n",
       "4  Apple Braeburn -159.546143 -49.895878  53.068077  10.417496  -6.057590   \n",
       "\n",
       "           5          6          7           8  ...       163       164  \\\n",
       "0 -55.029251  11.705690 -68.226257  -15.284904  ... -2.001430  5.611289   \n",
       "1  -0.365676  50.401302 -12.385925  -82.419731  ... -0.891619 -5.292984   \n",
       "2   7.104094  55.642479  -7.860163  -88.528183  ... -0.831624 -1.517816   \n",
       "3  10.723994  53.374607  -8.554770 -100.312035  ... -2.856441 -0.888656   \n",
       "4   9.659484  55.258743 -11.540544 -100.696190  ... -1.102456 -0.746603   \n",
       "\n",
       "        165        166       167       168        169       170       171  \\\n",
       "0  2.469967  13.452518  4.699523 -6.445440  -2.791751 -1.687784 -9.780011   \n",
       "1 -4.847217  -1.164312  1.676399  9.762865 -10.650976 -6.978362 -5.724542   \n",
       "2 -5.190097  -5.411776  3.861518  8.233482  -6.704696 -2.499938 -2.530610   \n",
       "3 -4.545717  -5.491290  2.400442  7.536231  -6.292813 -6.892319 -2.751713   \n",
       "4 -2.300404  -6.746674  2.137212  6.150426  -5.815139 -6.398622  0.068932   \n",
       "\n",
       "        172  \n",
       "0 -4.474288  \n",
       "1 -0.335709  \n",
       "2  1.072610  \n",
       "3 -4.750124  \n",
       "4 -3.145939  \n",
       "\n",
       "[5 rows x 174 columns]"
      ]
     },
     "execution_count": 12,
     "metadata": {},
     "output_type": "execute_result"
    }
   ],
   "source": [
    "principal_df.head()"
   ]
  },
  {
   "cell_type": "markdown",
   "id": "ec232adb",
   "metadata": {},
   "source": [
    "### Stockage en fichier csv"
   ]
  },
  {
   "cell_type": "code",
   "execution_count": 11,
   "id": "12b54035",
   "metadata": {},
   "outputs": [],
   "source": [
    "principal_df.to_csv(path+\"sortie_pandas.csv\")"
   ]
  },
  {
   "cell_type": "code",
   "execution_count": null,
   "id": "080a77c9",
   "metadata": {},
   "outputs": [],
   "source": []
  }
 ],
 "metadata": {
  "kernelspec": {
   "display_name": "Python 3 (ipykernel)",
   "language": "python",
   "name": "python3"
  },
  "language_info": {
   "codemirror_mode": {
    "name": "ipython",
    "version": 3
   },
   "file_extension": ".py",
   "mimetype": "text/x-python",
   "name": "python",
   "nbconvert_exporter": "python",
   "pygments_lexer": "ipython3",
   "version": "3.9.7"
  }
 },
 "nbformat": 4,
 "nbformat_minor": 5
}
